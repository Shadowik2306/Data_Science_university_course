{
 "cells": [
  {
   "metadata": {},
   "cell_type": "markdown",
   "source": "# Лабораторная работа 2",
   "id": "6550695e0fc56168"
  },
  {
   "metadata": {},
   "cell_type": "markdown",
   "source": [
    "## Шаги выполнения\n",
    "\n",
    "1. Выбрать три набора данных, которые не соответствуют Вашему варианту задания.\n",
    "\n",
    "2. Провести анализ сведений о каждом наборе данных со страницы загрузки в Kaggle. Какова проблемная область?\n",
    "\n",
    "3. Провести анализ содержимого каждого набора данных. Что является объектом/объектами наблюдения? Каковы атрибуты объектов? Есть ли связи между объектами?\n",
    "\n",
    "4. Привести примеры бизнес-целей, для достижения которых могут подойти выбранные наборы данных. Каков эффект для бизнеса?\n",
    "\n",
    "5. Привести примеры целей технического проекта для каждой выделенной ранее бизнес-цели. Что поступает на вход, что является целевым признаком?\n",
    "\n",
    "6. Определить проблемы выбранных наборов данных: зашумленность, смещение, актуальность, выбросы, просачивание данных.\n",
    "\n",
    "7. Привести примеры решения обнаруженных проблем для каждого набора данных.\n",
    "\n",
    "8. Оценить качество каждого набора данных: информативность, степень покрытия, соответствие реальным данным, согласованность меток.\n",
    "\n",
    "9. Устранить проблему пропущенных данных. Для каждого набора данных использовать разные методы: удаление, подстановка константного значения (0 или подобное), подстановка среднего значения.\n",
    "\n",
    "10. Выполнить разбиение каждого набора данных на обучающую, контрольную и тестовую выборки.\n",
    "\n",
    "11. Оценить сбалансированность выборок для каждого набора данных. Оценить необходимость использования методов приращения (аугментации) данных.\n",
    "\n",
    "12. Выполнить приращение данных методами выборки с избытком (oversampling) и выборки с недостатком (undersampling). Должны быть представлены примеры реализации обоих методов для выборок каждого набора данных.\n",
    "\n",
    "13. Все выводы и программный код должны быть оформлены в виде ноутбука. Для выполнения данной лабораторной работы следует создать новый файл-ноутбук.\n",
    "\n",
    "14. Разобраться с основными возможностями библиотеки imbalanced-learn (https://imbalanced-learn.org/stable/) для решения задачи приращения данных и несбалансированности выборок.\n",
    "\n",
    "15. Разобраться с работой функции train_test_split библиотеки scikit-learn (https://scikit-learn.org/stable/)."
   ],
   "id": "8d1c08ade5f4fe3e"
  },
  {
   "metadata": {},
   "cell_type": "markdown",
   "source": [
    "## Ход работы\n",
    "\n",
    "### 1. Выбрать три набора данных, которые не соответствуют Вашему варианту задания.\n",
    "\n",
    "В качестве дополнительных данных были выбраны:\n",
    "1) [Онлайн обучение](https://www.kaggle.com/datasets/shariful07/student-flexibility-in-online-learning)\n",
    "2) [Объекты вокруг Земли](https://www.kaggle.com/datasets/sameepvani/nasa-nearest-earth-objects)\n",
    "3) [Прогнозирование стоимости страховки](https://www.kaggle.com/datasets/harishkumardatalab/medical-insurance-price-prediction)\n",
    "\n",
    "Файлы были загружены в папку [datasets](/datasets)\n",
    "\n",
    "Для удобства сразу раскроем загрузим датасеты\n",
    "\n"
   ],
   "id": "a41da11551f22a1e"
  },
  {
   "metadata": {
    "ExecuteTime": {
     "end_time": "2025-05-03T12:20:23.134420Z",
     "start_time": "2025-05-03T12:20:23.062895Z"
    }
   },
   "cell_type": "code",
   "source": [
    "import os\n",
    "import pandas as pd\n",
    "from pathlib import Path\n",
    "\n",
    "from pandas import DataFrame\n",
    "\n",
    "datasets_folder_path = Path(os.path.abspath('')).parent / \"datasets\"\n",
    "\n",
    "online_study_df = pd.read_csv(datasets_folder_path / \"students_adaptability_level_online_education.csv\")\n",
    "asteroids_df = pd.read_csv(datasets_folder_path / \"neo.csv\", index_col=\"id\")\n",
    "medical_insures_df = pd.read_csv(datasets_folder_path / \"Medical_insurance.csv\")"
   ],
   "id": "ddb7245a2d1d6038",
   "outputs": [],
   "execution_count": 428
  },
  {
   "metadata": {},
   "cell_type": "markdown",
   "source": [
    "### 2. Провести анализ сведений о каждом наборе данных со страницы загрузки в Kaggle. Какова проблемная область?\n",
    "\n",
    "Исходя информации сайта kaggle.com проведем анализ сведений о каждом наборе данных и рассмотрим проблемную область\n",
    "\n",
    "1) В первом наборе рассматриваются обучение с помощью онлайн средств. Под онлайн обучением подразумевается взаимодействие учителя и ученика разделенных расстоянием. \n",
    "\n",
    "2) Во втором наборе данных представлены космические тела вокруг земли до 80000 км. Данные основаны на документах NASA\n",
    "\n",
    "3) В третьем наборе рассматриваются стоимость медицинского страхования в зависимости от признаков человека."
   ],
   "id": "51cfe659191fd133"
  },
  {
   "metadata": {},
   "cell_type": "markdown",
   "source": [
    "### 3. Провести анализ содержимого каждого набора данных. Что является объектом/объектами наблюдения? Каковы атрибуты объектов? Есть ли связи между объектами?\n",
    "\n",
    "1) Рассматривается множество признаков задевающие как и ученика (возраст, пол, финансовое состояние), так и платформы (уровень образования (школа/университет/другие), частные или приватные занятия).\n",
    "\n",
    "2) В наборе данных рассматриваются астеройды, их размеры, а также могут ли они быть опасны для земли. \n",
    "\n",
    "3) Кроме собственно цены страховки, рассматриваются признаки человека: его пол, возраст, индекс массы и тому подобное\n",
    "\n",
    "По первичной оценке можно только предполагать о связях между объектами, однако точно сказать сложно"
   ],
   "id": "adbb3b1bcc633881"
  },
  {
   "metadata": {},
   "cell_type": "markdown",
   "source": [
    "### 4. Привести примеры бизнес-целей, для достижения которых могут подойти выбранные наборы данных. Каков эффект для бизнеса?\n",
    "\n",
    "1) С учетом карантина коронавируса, который произошел несколько лет назад, онлайн обучение стало активно набирать обороты. На основе данных датасета, можно предсказать эффективность использования онлайн обучения\n",
    "\n",
    "2) На основе этих данных можно предсказывать опасность новых космических тел для земли\n",
    "\n",
    "3) На основе данных можно создать умные онлайн конструкторы, которые могут примерную стоимость медицинской страховки"
   ],
   "id": "d9df5c469fc3480f"
  },
  {
   "metadata": {},
   "cell_type": "markdown",
   "source": [
    "### 5. Привести примеры целей технического проекта для каждой выделенной ранее бизнес-цели. Что поступает на вход, что является целевым признаком?\n",
    "\n",
    "1) На вход поступает данные об ученике: его пол, возраст, специальность, информация об интернете студента. Можно предположить что целевыми признаками будет качество интернета студента, а так же устройство на котором проходит обучение, также стоит рассмотреть финансовое обеспечение студента\n",
    "\n",
    "2) Даны признаки астеройда. В качестве целевых признаков можно предположить диаметр астеройда, а так же его расстояние относительно земли\n",
    "\n",
    "3) Даны признаки человека. В качестве признака стоит рассматривать индекс массы тела, признак курения и место проживания"
   ],
   "id": "96cacf062cef3858"
  },
  {
   "metadata": {},
   "cell_type": "markdown",
   "source": [
    "### 6. Определить проблемы выбранных наборов данных: зашумленность, смещение, актуальность, выбросы, просачивание данных.\n",
    "\n",
    " Данные сайта kaggle в большинстве случаев предоставляют уже изначально хорошие данные. Единственный вопрос может быть предоставлен к актуальности данных, самым старшим данным из набора составляет 3 года, что для выбранных данных не настолько критичный срок"
   ],
   "id": "12b02507eb8280cb"
  },
  {
   "metadata": {},
   "cell_type": "markdown",
   "source": [
    "### 7. Привести примеры решения обнаруженных проблем для каждого набора данных.\n",
    "\n",
    "Можно только заполнить данные новыми. Но как и было сказано выше, для текущих данных 3 года не настолько большой срок"
   ],
   "id": "fee099f94f5a1bbe"
  },
  {
   "metadata": {},
   "cell_type": "markdown",
   "source": [
    "### 8. Оценить качество каждого набора данных: информативность, степень покрытия, соответствие реальным данным, согласованность меток.\n",
    "\n",
    "Без погружения в предметную область сложно сказать о таких качествах данных на уровне соответствия реальным данным и согласованности меток. Исходя из популярности данных (средний upvote у датасетов около 20) будем предполагать что текущие данные имеют хорошее качество\n",
    "\n",
    "1) Для данного набора представлено 13255 наблюдений, что может быть недостаточно для решения задачи. Кроме представленных данных, было бы иметь данные об наличии и успешности обучения в оффлайн режиме.\n",
    "\n",
    "2) Для данного набора предоставлено более 90 тыс наблюдений, набора должно хватить для решения задачи. Двнные подробно покрывают предметную область\n",
    "\n",
    "3) Для данного набора предоставлено 2772 наблюдений, что должно хватить для решения задачи. Данные могли быть подробнее и к примеру содержать данные о состоянии, работы и других параметров."
   ],
   "id": "33d98e0c64e10147"
  },
  {
   "metadata": {},
   "cell_type": "markdown",
   "source": [
    "### 9. Устранить проблему пропущенных данных. Для каждого набора данных использовать разные методы: удаление, подстановка константного значения (0 или подобное), подстановка среднего значения.\n",
    "\n",
    "1) Для первого набора применим использование метод удаления"
   ],
   "id": "38845ba728d10e53"
  },
  {
   "metadata": {
    "ExecuteTime": {
     "end_time": "2025-05-03T12:20:23.138927Z",
     "start_time": "2025-05-03T12:20:23.135477Z"
    }
   },
   "cell_type": "code",
   "source": "display(online_study_df.isnull().sum())",
   "id": "ddadefccefbe2006",
   "outputs": [
    {
     "data": {
      "text/plain": [
       "Education Level        0\n",
       "Institution Type       0\n",
       "Gender                 0\n",
       "Age                    0\n",
       "Device                 0\n",
       "IT Student             0\n",
       "Location               0\n",
       "Financial Condition    0\n",
       "Internet Type          0\n",
       "Network Type           0\n",
       "Flexibility Level      0\n",
       "dtype: int64"
      ]
     },
     "metadata": {},
     "output_type": "display_data"
    }
   ],
   "execution_count": 429
  },
  {
   "metadata": {},
   "cell_type": "markdown",
   "source": "Для примера создадим несколько новых строк, но имеющие пропущенные данные",
   "id": "be1334c6c12f7d7d"
  },
  {
   "metadata": {
    "ExecuteTime": {
     "end_time": "2025-05-03T12:20:23.166086Z",
     "start_time": "2025-05-03T12:20:23.161234Z"
    }
   },
   "cell_type": "code",
   "source": [
    "from pandas import DataFrame\n",
    "import numpy as np\n",
    "\n",
    "def create_copy_df_with_zero_data(df: DataFrame, frac: float = 0.01) -> DataFrame:\n",
    "    df_copy = df.copy()\n",
    "    samples = df_copy.sample(frac=frac)\n",
    "    # for easy change only num params\n",
    "    compatible_columns = df_copy.select_dtypes(include=np.number).columns\n",
    "    \n",
    "    for i in samples.index:\n",
    "        df_copy.at[i, np.random.choice(compatible_columns)] = np.nan\n",
    "        \n",
    "    return df_copy\n",
    "    \n",
    "\n",
    "online_study_df_copy_empty = create_copy_df_with_zero_data(online_study_df)\n",
    "display(online_study_df_copy_empty.isnull().sum())"
   ],
   "id": "19f10f86add697f8",
   "outputs": [
    {
     "data": {
      "text/plain": [
       "Education Level         0\n",
       "Institution Type        0\n",
       "Gender                  0\n",
       "Age                    12\n",
       "Device                  0\n",
       "IT Student              0\n",
       "Location                0\n",
       "Financial Condition     0\n",
       "Internet Type           0\n",
       "Network Type            0\n",
       "Flexibility Level       0\n",
       "dtype: int64"
      ]
     },
     "metadata": {},
     "output_type": "display_data"
    }
   ],
   "execution_count": 430
  },
  {
   "metadata": {},
   "cell_type": "markdown",
   "source": "Теперь можно приступить к удалению пустых данных",
   "id": "6fd6bc55f26738b7"
  },
  {
   "metadata": {
    "ExecuteTime": {
     "end_time": "2025-05-03T12:20:23.181398Z",
     "start_time": "2025-05-03T12:20:23.179602Z"
    }
   },
   "cell_type": "code",
   "source": "print(online_study_df_copy_empty.shape) # Check count of rows",
   "id": "85fff2ad8302402",
   "outputs": [
    {
     "name": "stdout",
     "output_type": "stream",
     "text": [
      "(1205, 11)\n"
     ]
    }
   ],
   "execution_count": 431
  },
  {
   "metadata": {
    "ExecuteTime": {
     "end_time": "2025-05-03T12:20:23.193892Z",
     "start_time": "2025-05-03T12:20:23.189328Z"
    }
   },
   "cell_type": "code",
   "source": [
    "online_study_df_copy_empty.dropna(inplace=True)\n",
    "display(online_study_df_copy_empty.isnull().sum())\n",
    "print(online_study_df_copy_empty.shape)"
   ],
   "id": "a6ce180a3770d33d",
   "outputs": [
    {
     "data": {
      "text/plain": [
       "Education Level        0\n",
       "Institution Type       0\n",
       "Gender                 0\n",
       "Age                    0\n",
       "Device                 0\n",
       "IT Student             0\n",
       "Location               0\n",
       "Financial Condition    0\n",
       "Internet Type          0\n",
       "Network Type           0\n",
       "Flexibility Level      0\n",
       "dtype: int64"
      ]
     },
     "metadata": {},
     "output_type": "display_data"
    },
    {
     "name": "stdout",
     "output_type": "stream",
     "text": [
      "(1193, 11)\n"
     ]
    }
   ],
   "execution_count": 432
  },
  {
   "metadata": {},
   "cell_type": "markdown",
   "source": "2) Для второго набора применим использование метод подстановки константного значения",
   "id": "8784c357ff03828b"
  },
  {
   "metadata": {
    "ExecuteTime": {
     "end_time": "2025-05-03T12:20:23.205801Z",
     "start_time": "2025-05-03T12:20:23.198747Z"
    }
   },
   "cell_type": "code",
   "source": "display(asteroids_df.isnull().sum())",
   "id": "94bfa13c761abde5",
   "outputs": [
    {
     "data": {
      "text/plain": [
       "name                  0\n",
       "est_diameter_min      0\n",
       "est_diameter_max      0\n",
       "relative_velocity     0\n",
       "miss_distance         0\n",
       "orbiting_body         0\n",
       "sentry_object         0\n",
       "absolute_magnitude    0\n",
       "hazardous             0\n",
       "dtype: int64"
      ]
     },
     "metadata": {},
     "output_type": "display_data"
    }
   ],
   "execution_count": 433
  },
  {
   "metadata": {},
   "cell_type": "markdown",
   "source": "Как и в прошлый раз добавим искусственно строки",
   "id": "837252cc88b4a1e7"
  },
  {
   "metadata": {
    "ExecuteTime": {
     "end_time": "2025-05-03T12:20:23.324462Z",
     "start_time": "2025-05-03T12:20:23.208517Z"
    }
   },
   "cell_type": "code",
   "source": [
    "asteroids_df_copy_empty = create_copy_df_with_zero_data(asteroids_df)\n",
    "display(asteroids_df_copy_empty.isnull().sum())"
   ],
   "id": "b50cf344c3fe3046",
   "outputs": [
    {
     "data": {
      "text/plain": [
       "name                     0\n",
       "est_diameter_min      1430\n",
       "est_diameter_max      1117\n",
       "relative_velocity     1031\n",
       "miss_distance         1214\n",
       "orbiting_body            0\n",
       "sentry_object            0\n",
       "absolute_magnitude    1121\n",
       "hazardous                0\n",
       "dtype: int64"
      ]
     },
     "metadata": {},
     "output_type": "display_data"
    }
   ],
   "execution_count": 434
  },
  {
   "metadata": {},
   "cell_type": "markdown",
   "source": "Теперь приступим к применению метода",
   "id": "8c129cd4e92116de"
  },
  {
   "metadata": {
    "ExecuteTime": {
     "end_time": "2025-05-03T12:20:23.328040Z",
     "start_time": "2025-05-03T12:20:23.325686Z"
    }
   },
   "cell_type": "code",
   "source": "print(asteroids_df_copy_empty.shape) # Check count of rows",
   "id": "cc083d7816b0d5e3",
   "outputs": [
    {
     "name": "stdout",
     "output_type": "stream",
     "text": [
      "(90836, 9)\n"
     ]
    }
   ],
   "execution_count": 435
  },
  {
   "metadata": {
    "ExecuteTime": {
     "end_time": "2025-05-03T12:20:23.341183Z",
     "start_time": "2025-05-03T12:20:23.329063Z"
    }
   },
   "cell_type": "code",
   "source": [
    "asteroids_df_copy_empty.fillna(0, inplace=True)\n",
    "display(asteroids_df_copy_empty.isnull().sum())\n",
    "print(asteroids_df_copy_empty.shape)"
   ],
   "id": "add5f8cc0fff920a",
   "outputs": [
    {
     "data": {
      "text/plain": [
       "name                  0\n",
       "est_diameter_min      0\n",
       "est_diameter_max      0\n",
       "relative_velocity     0\n",
       "miss_distance         0\n",
       "orbiting_body         0\n",
       "sentry_object         0\n",
       "absolute_magnitude    0\n",
       "hazardous             0\n",
       "dtype: int64"
      ]
     },
     "metadata": {},
     "output_type": "display_data"
    },
    {
     "name": "stdout",
     "output_type": "stream",
     "text": [
      "(90836, 9)\n"
     ]
    }
   ],
   "execution_count": 436
  },
  {
   "metadata": {},
   "cell_type": "markdown",
   "source": "3. Для третьего датасета используем подстановку среднего значения",
   "id": "a62e45e9169b9409"
  },
  {
   "metadata": {
    "ExecuteTime": {
     "end_time": "2025-05-03T12:20:23.345715Z",
     "start_time": "2025-05-03T12:20:23.342563Z"
    }
   },
   "cell_type": "code",
   "source": "display(medical_insures_df.isnull().sum())",
   "id": "ded9287c761d9968",
   "outputs": [
    {
     "data": {
      "text/plain": [
       "age         0\n",
       "sex         0\n",
       "bmi         0\n",
       "children    0\n",
       "smoker      0\n",
       "region      0\n",
       "charges     0\n",
       "dtype: int64"
      ]
     },
     "metadata": {},
     "output_type": "display_data"
    }
   ],
   "execution_count": 437
  },
  {
   "metadata": {},
   "cell_type": "markdown",
   "source": "Ну и в последнем датасете нет нулевых данных - также сымитируем их",
   "id": "67de1f0effda596e"
  },
  {
   "metadata": {
    "ExecuteTime": {
     "end_time": "2025-05-03T12:20:23.350498Z",
     "start_time": "2025-05-03T12:20:23.346411Z"
    }
   },
   "cell_type": "code",
   "source": [
    "medical_insures_df_copy_empty = create_copy_df_with_zero_data(medical_insures_df)\n",
    "display(medical_insures_df_copy_empty.isnull().sum())"
   ],
   "id": "4bd1e9a95fd7e531",
   "outputs": [
    {
     "data": {
      "text/plain": [
       "age         9\n",
       "sex         0\n",
       "bmi         8\n",
       "children    8\n",
       "smoker      0\n",
       "region      0\n",
       "charges     3\n",
       "dtype: int64"
      ]
     },
     "metadata": {},
     "output_type": "display_data"
    }
   ],
   "execution_count": 438
  },
  {
   "metadata": {},
   "cell_type": "markdown",
   "source": "Применим метод",
   "id": "8ce5152c5fff1f85"
  },
  {
   "metadata": {
    "ExecuteTime": {
     "end_time": "2025-05-03T12:20:23.352879Z",
     "start_time": "2025-05-03T12:20:23.351135Z"
    }
   },
   "cell_type": "code",
   "source": "print(medical_insures_df_copy_empty.shape)",
   "id": "7137e0585d95b1b9",
   "outputs": [
    {
     "name": "stdout",
     "output_type": "stream",
     "text": [
      "(2772, 7)\n"
     ]
    }
   ],
   "execution_count": 439
  },
  {
   "metadata": {
    "ExecuteTime": {
     "end_time": "2025-05-03T12:20:23.358244Z",
     "start_time": "2025-05-03T12:20:23.353384Z"
    }
   },
   "cell_type": "code",
   "source": [
    "medical_insures_df_copy_empty.fillna({\n",
    "    'age': medical_insures_df_copy_empty['age'].mean(),\n",
    "    'bmi': medical_insures_df_copy_empty['bmi'].mean(),\n",
    "    'children': medical_insures_df_copy_empty['children'].mean(),\n",
    "    'charges': medical_insures_df_copy_empty['charges'].mean(),\n",
    "}, inplace=True)\n",
    "display(medical_insures_df_copy_empty.isnull().sum())\n",
    "print(medical_insures_df_copy_empty.shape)"
   ],
   "id": "6afd933851b7610c",
   "outputs": [
    {
     "data": {
      "text/plain": [
       "age         0\n",
       "sex         0\n",
       "bmi         0\n",
       "children    0\n",
       "smoker      0\n",
       "region      0\n",
       "charges     0\n",
       "dtype: int64"
      ]
     },
     "metadata": {},
     "output_type": "display_data"
    },
    {
     "name": "stdout",
     "output_type": "stream",
     "text": [
      "(2772, 7)\n"
     ]
    }
   ],
   "execution_count": 440
  },
  {
   "metadata": {},
   "cell_type": "markdown",
   "source": "### 10. Выполнить разбиение каждого набора данных на обучающую, контрольную и тестовую выборки.",
   "id": "1cb9946ffeb51df4"
  },
  {
   "metadata": {
    "ExecuteTime": {
     "end_time": "2025-05-03T12:20:23.361324Z",
     "start_time": "2025-05-03T12:20:23.358905Z"
    }
   },
   "cell_type": "code",
   "source": [
    "from src.extra.utils import split_stratified_into_train_val_test\n",
    "\n",
    "def split_and_display_train_dataset(df: DataFrame, stratify_colname: str, quiet: bool = False) :\n",
    "    df_copy = df.copy()\n",
    "    \n",
    "    if not quiet:\n",
    "        display(\"Изначальный набор\")\n",
    "        display(df_copy[stratify_colname].value_counts())\n",
    "\n",
    "\n",
    "    df_train, df_val, df_test, y_train, y_val, y_test = split_stratified_into_train_val_test(\n",
    "       df_copy, stratify_colname=stratify_colname, frac_train=0.60, frac_val=0.20, frac_test=0.20\n",
    "    )\n",
    "    \n",
    "    if not quiet:\n",
    "        display(\"Обучающая выборка: \", df_train.shape)\n",
    "        display(df_train[stratify_colname].value_counts())\n",
    "    \n",
    "        display(\"Контрольная выборка: \", df_val.shape)\n",
    "        display(df_val[stratify_colname].value_counts())\n",
    "    \n",
    "        display(\"Тестовая выборка: \", df_test.shape)\n",
    "        display(df_test[stratify_colname].value_counts())\n",
    "    \n",
    "    # return df_train, df_val, df_test, y_train, y_val, y_test"
   ],
   "id": "8e68e268479a1592",
   "outputs": [],
   "execution_count": 441
  },
  {
   "metadata": {
    "ExecuteTime": {
     "end_time": "2025-05-03T12:20:23.376720Z",
     "start_time": "2025-05-03T12:20:23.362117Z"
    }
   },
   "cell_type": "code",
   "source": "split_and_display_train_dataset(online_study_df, \"Flexibility Level\")",
   "id": "22d5014abcbd8117",
   "outputs": [
    {
     "data": {
      "text/plain": [
       "'Изначальный набор'"
      ]
     },
     "metadata": {},
     "output_type": "display_data"
    },
    {
     "data": {
      "text/plain": [
       "Flexibility Level\n",
       "Moderate    625\n",
       "Low         480\n",
       "High        100\n",
       "Name: count, dtype: int64"
      ]
     },
     "metadata": {},
     "output_type": "display_data"
    },
    {
     "data": {
      "text/plain": [
       "'Обучающая выборка: '"
      ]
     },
     "metadata": {},
     "output_type": "display_data"
    },
    {
     "data": {
      "text/plain": [
       "(723, 11)"
      ]
     },
     "metadata": {},
     "output_type": "display_data"
    },
    {
     "data": {
      "text/plain": [
       "Flexibility Level\n",
       "Moderate    375\n",
       "Low         288\n",
       "High         60\n",
       "Name: count, dtype: int64"
      ]
     },
     "metadata": {},
     "output_type": "display_data"
    },
    {
     "data": {
      "text/plain": [
       "'Контрольная выборка: '"
      ]
     },
     "metadata": {},
     "output_type": "display_data"
    },
    {
     "data": {
      "text/plain": [
       "(241, 11)"
      ]
     },
     "metadata": {},
     "output_type": "display_data"
    },
    {
     "data": {
      "text/plain": [
       "Flexibility Level\n",
       "Moderate    125\n",
       "Low          96\n",
       "High         20\n",
       "Name: count, dtype: int64"
      ]
     },
     "metadata": {},
     "output_type": "display_data"
    },
    {
     "data": {
      "text/plain": [
       "'Тестовая выборка: '"
      ]
     },
     "metadata": {},
     "output_type": "display_data"
    },
    {
     "data": {
      "text/plain": [
       "(241, 11)"
      ]
     },
     "metadata": {},
     "output_type": "display_data"
    },
    {
     "data": {
      "text/plain": [
       "Flexibility Level\n",
       "Moderate    125\n",
       "Low          96\n",
       "High         20\n",
       "Name: count, dtype: int64"
      ]
     },
     "metadata": {},
     "output_type": "display_data"
    }
   ],
   "execution_count": 442
  },
  {
   "metadata": {
    "ExecuteTime": {
     "end_time": "2025-05-03T12:20:23.616139Z",
     "start_time": "2025-05-03T12:20:23.378813Z"
    }
   },
   "cell_type": "code",
   "source": "split_and_display_train_dataset(asteroids_df, \"hazardous\")",
   "id": "ef1240212846254",
   "outputs": [
    {
     "data": {
      "text/plain": [
       "'Изначальный набор'"
      ]
     },
     "metadata": {},
     "output_type": "display_data"
    },
    {
     "data": {
      "text/plain": [
       "hazardous\n",
       "False    81996\n",
       "True      8840\n",
       "Name: count, dtype: int64"
      ]
     },
     "metadata": {},
     "output_type": "display_data"
    },
    {
     "data": {
      "text/plain": [
       "'Обучающая выборка: '"
      ]
     },
     "metadata": {},
     "output_type": "display_data"
    },
    {
     "data": {
      "text/plain": [
       "(54501, 9)"
      ]
     },
     "metadata": {},
     "output_type": "display_data"
    },
    {
     "data": {
      "text/plain": [
       "hazardous\n",
       "False    49197\n",
       "True      5304\n",
       "Name: count, dtype: int64"
      ]
     },
     "metadata": {},
     "output_type": "display_data"
    },
    {
     "data": {
      "text/plain": [
       "'Контрольная выборка: '"
      ]
     },
     "metadata": {},
     "output_type": "display_data"
    },
    {
     "data": {
      "text/plain": [
       "(18167, 9)"
      ]
     },
     "metadata": {},
     "output_type": "display_data"
    },
    {
     "data": {
      "text/plain": [
       "hazardous\n",
       "False    16399\n",
       "True      1768\n",
       "Name: count, dtype: int64"
      ]
     },
     "metadata": {},
     "output_type": "display_data"
    },
    {
     "data": {
      "text/plain": [
       "'Тестовая выборка: '"
      ]
     },
     "metadata": {},
     "output_type": "display_data"
    },
    {
     "data": {
      "text/plain": [
       "(18168, 9)"
      ]
     },
     "metadata": {},
     "output_type": "display_data"
    },
    {
     "data": {
      "text/plain": [
       "hazardous\n",
       "False    16400\n",
       "True      1768\n",
       "Name: count, dtype: int64"
      ]
     },
     "metadata": {},
     "output_type": "display_data"
    }
   ],
   "execution_count": 443
  },
  {
   "metadata": {},
   "cell_type": "markdown",
   "source": "Для последнего датасета добавим новый признак группирующий по цене",
   "id": "36008e2ccdf4c8c6"
  },
  {
   "metadata": {},
   "cell_type": "markdown",
   "source": "",
   "id": "833e2e5963fb84e0"
  },
  {
   "metadata": {
    "ExecuteTime": {
     "end_time": "2025-05-03T12:20:23.622599Z",
     "start_time": "2025-05-03T12:20:23.616828Z"
    }
   },
   "cell_type": "code",
   "source": [
    "medical_insures_df_copy_grouped = medical_insures_df.copy()\n",
    "medical_insures_df_copy_grouped[\"grouped_charges\"] = pd.cut(medical_insures_df_copy_grouped[\"charges\"],\n",
    "                                                           bins=[0, 10000, 20000, 30000, 40000, 50000, 60000, 70000,],\n",
    "                                                           labels=[\"<= 10000\", \"<= 20000\", \"<= 30000\", \"<= 40000\", \"<= 50000\", \"<= 60000\", \"<= 70000\"],\n",
    "                                                           right=True\n",
    "                                                           )\n",
    "medical_insures_df_copy_grouped.head()"
   ],
   "id": "b4edfb0942b82e99",
   "outputs": [
    {
     "data": {
      "text/plain": [
       "   age     sex     bmi  children smoker     region      charges  \\\n",
       "0   19  female  27.900         0    yes  southwest  16884.92400   \n",
       "1   18    male  33.770         1     no  southeast   1725.55230   \n",
       "2   28    male  33.000         3     no  southeast   4449.46200   \n",
       "3   33    male  22.705         0     no  northwest  21984.47061   \n",
       "4   32    male  28.880         0     no  northwest   3866.85520   \n",
       "\n",
       "  grouped_charges  \n",
       "0        <= 20000  \n",
       "1        <= 10000  \n",
       "2        <= 10000  \n",
       "3        <= 30000  \n",
       "4        <= 10000  "
      ],
      "text/html": [
       "<div>\n",
       "<style scoped>\n",
       "    .dataframe tbody tr th:only-of-type {\n",
       "        vertical-align: middle;\n",
       "    }\n",
       "\n",
       "    .dataframe tbody tr th {\n",
       "        vertical-align: top;\n",
       "    }\n",
       "\n",
       "    .dataframe thead th {\n",
       "        text-align: right;\n",
       "    }\n",
       "</style>\n",
       "<table border=\"1\" class=\"dataframe\">\n",
       "  <thead>\n",
       "    <tr style=\"text-align: right;\">\n",
       "      <th></th>\n",
       "      <th>age</th>\n",
       "      <th>sex</th>\n",
       "      <th>bmi</th>\n",
       "      <th>children</th>\n",
       "      <th>smoker</th>\n",
       "      <th>region</th>\n",
       "      <th>charges</th>\n",
       "      <th>grouped_charges</th>\n",
       "    </tr>\n",
       "  </thead>\n",
       "  <tbody>\n",
       "    <tr>\n",
       "      <th>0</th>\n",
       "      <td>19</td>\n",
       "      <td>female</td>\n",
       "      <td>27.900</td>\n",
       "      <td>0</td>\n",
       "      <td>yes</td>\n",
       "      <td>southwest</td>\n",
       "      <td>16884.92400</td>\n",
       "      <td>&lt;= 20000</td>\n",
       "    </tr>\n",
       "    <tr>\n",
       "      <th>1</th>\n",
       "      <td>18</td>\n",
       "      <td>male</td>\n",
       "      <td>33.770</td>\n",
       "      <td>1</td>\n",
       "      <td>no</td>\n",
       "      <td>southeast</td>\n",
       "      <td>1725.55230</td>\n",
       "      <td>&lt;= 10000</td>\n",
       "    </tr>\n",
       "    <tr>\n",
       "      <th>2</th>\n",
       "      <td>28</td>\n",
       "      <td>male</td>\n",
       "      <td>33.000</td>\n",
       "      <td>3</td>\n",
       "      <td>no</td>\n",
       "      <td>southeast</td>\n",
       "      <td>4449.46200</td>\n",
       "      <td>&lt;= 10000</td>\n",
       "    </tr>\n",
       "    <tr>\n",
       "      <th>3</th>\n",
       "      <td>33</td>\n",
       "      <td>male</td>\n",
       "      <td>22.705</td>\n",
       "      <td>0</td>\n",
       "      <td>no</td>\n",
       "      <td>northwest</td>\n",
       "      <td>21984.47061</td>\n",
       "      <td>&lt;= 30000</td>\n",
       "    </tr>\n",
       "    <tr>\n",
       "      <th>4</th>\n",
       "      <td>32</td>\n",
       "      <td>male</td>\n",
       "      <td>28.880</td>\n",
       "      <td>0</td>\n",
       "      <td>no</td>\n",
       "      <td>northwest</td>\n",
       "      <td>3866.85520</td>\n",
       "      <td>&lt;= 10000</td>\n",
       "    </tr>\n",
       "  </tbody>\n",
       "</table>\n",
       "</div>"
      ]
     },
     "execution_count": 444,
     "metadata": {},
     "output_type": "execute_result"
    }
   ],
   "execution_count": 444
  },
  {
   "metadata": {
    "ExecuteTime": {
     "end_time": "2025-05-03T12:20:23.641635Z",
     "start_time": "2025-05-03T12:20:23.623506Z"
    }
   },
   "cell_type": "code",
   "source": "split_and_display_train_dataset(medical_insures_df_copy_grouped, \"grouped_charges\")",
   "id": "c00ddbf70d2207c6",
   "outputs": [
    {
     "data": {
      "text/plain": [
       "'Изначальный набор'"
      ]
     },
     "metadata": {},
     "output_type": "display_data"
    },
    {
     "data": {
      "text/plain": [
       "grouped_charges\n",
       "<= 10000    1480\n",
       "<= 20000     726\n",
       "<= 30000     226\n",
       "<= 40000     176\n",
       "<= 50000     150\n",
       "<= 60000       8\n",
       "<= 70000       6\n",
       "Name: count, dtype: int64"
      ]
     },
     "metadata": {},
     "output_type": "display_data"
    },
    {
     "data": {
      "text/plain": [
       "'Обучающая выборка: '"
      ]
     },
     "metadata": {},
     "output_type": "display_data"
    },
    {
     "data": {
      "text/plain": [
       "(1663, 8)"
      ]
     },
     "metadata": {},
     "output_type": "display_data"
    },
    {
     "data": {
      "text/plain": [
       "grouped_charges\n",
       "<= 10000    888\n",
       "<= 20000    435\n",
       "<= 30000    135\n",
       "<= 40000    106\n",
       "<= 50000     90\n",
       "<= 60000      5\n",
       "<= 70000      4\n",
       "Name: count, dtype: int64"
      ]
     },
     "metadata": {},
     "output_type": "display_data"
    },
    {
     "data": {
      "text/plain": [
       "'Контрольная выборка: '"
      ]
     },
     "metadata": {},
     "output_type": "display_data"
    },
    {
     "data": {
      "text/plain": [
       "(554, 8)"
      ]
     },
     "metadata": {},
     "output_type": "display_data"
    },
    {
     "data": {
      "text/plain": [
       "grouped_charges\n",
       "<= 10000    296\n",
       "<= 20000    145\n",
       "<= 30000     45\n",
       "<= 40000     35\n",
       "<= 50000     30\n",
       "<= 60000      2\n",
       "<= 70000      1\n",
       "Name: count, dtype: int64"
      ]
     },
     "metadata": {},
     "output_type": "display_data"
    },
    {
     "data": {
      "text/plain": [
       "'Тестовая выборка: '"
      ]
     },
     "metadata": {},
     "output_type": "display_data"
    },
    {
     "data": {
      "text/plain": [
       "(555, 8)"
      ]
     },
     "metadata": {},
     "output_type": "display_data"
    },
    {
     "data": {
      "text/plain": [
       "grouped_charges\n",
       "<= 10000    296\n",
       "<= 20000    146\n",
       "<= 30000     46\n",
       "<= 40000     35\n",
       "<= 50000     30\n",
       "<= 60000      1\n",
       "<= 70000      1\n",
       "Name: count, dtype: int64"
      ]
     },
     "metadata": {},
     "output_type": "display_data"
    }
   ],
   "execution_count": 445
  },
  {
   "metadata": {},
   "cell_type": "markdown",
   "source": [
    "### 11. Оценить сбалансированность выборок для каждого набора данных. Оценить необходимость использования методов приращения (аугментации) данных.\n",
    "\n",
    "Для последнего датасета уже был применен метод приращения. Оценивать стоимость каждого наблюдения, не имеет смысла, поэтому было решено сгруппировать данные. По вопросу сбалансированности можно отметить малое кол-во людей с ценой страховки более 50000, но это можно решить увеличив группировку. Также во 2 наборе стоит отметить меньшее кол-во опасных объектов в сравнении с безопасными"
   ],
   "id": "10b648b5444e24f6"
  },
  {
   "metadata": {},
   "cell_type": "markdown",
   "source": [
    "### 12. Выполнить приращение данных методами выборки с избытком (oversampling) и выборки с недостатком (undersampling). Должны быть представлены примеры реализации обоих методов для выборок каждого набора данных.\n",
    "\n",
    "\n",
    "В отличие от кода представленном в примере пришлось сначала трансформировать данные в числовые, иначе метод не работает"
   ],
   "id": "ce7f556417df1624"
  },
  {
   "metadata": {
    "ExecuteTime": {
     "end_time": "2025-05-03T12:20:23.645113Z",
     "start_time": "2025-05-03T12:20:23.642592Z"
    }
   },
   "cell_type": "code",
   "source": [
    "from imblearn.base import BaseSampler\n",
    "from sklearn.preprocessing import LabelEncoder\n",
    "\n",
    "def use_sampling_method(df: DataFrame, stratify_colname: str, method: BaseSampler):    \n",
    "    display(\"Before\")\n",
    "    display(df[stratify_colname].value_counts())\n",
    "    \n",
    "    categorical_features = df.select_dtypes(include=['object', 'category']).columns\n",
    "    \n",
    "    label_encoders = {}\n",
    "    for feature in categorical_features:\n",
    "        le = LabelEncoder()\n",
    "        df[feature] = le.fit_transform(df[feature])\n",
    "        label_encoders[feature] = le\n",
    "    \n",
    "    x_resampled, y_resampled = method.fit_resample(df, df[stratify_colname])\n",
    "    df_adasyn = pd.DataFrame(x_resampled)\n",
    "    \n",
    "    \n",
    "    for feature, encoder in label_encoders.items():\n",
    "        df_adasyn[feature] = encoder.inverse_transform(df_adasyn[feature])\n",
    "        \n",
    "    display(f\"After {method._sampling_type} {type(method).__name__}\")\n",
    "    display(df_adasyn[stratify_colname].value_counts())\n",
    "\n",
    "    "
   ],
   "id": "9edffacf95623578",
   "outputs": [],
   "execution_count": 446
  },
  {
   "metadata": {
    "ExecuteTime": {
     "end_time": "2025-05-03T12:20:23.661765Z",
     "start_time": "2025-05-03T12:20:23.645854Z"
    }
   },
   "cell_type": "code",
   "source": [
    "from imblearn.under_sampling import RandomUnderSampler\n",
    "from imblearn.over_sampling import ADASYN\n",
    "\n",
    "use_sampling_method(online_study_df, \"Flexibility Level\", method=ADASYN())\n"
   ],
   "id": "ff2fa77bbdf661d6",
   "outputs": [
    {
     "data": {
      "text/plain": [
       "'Before'"
      ]
     },
     "metadata": {},
     "output_type": "display_data"
    },
    {
     "data": {
      "text/plain": [
       "Flexibility Level\n",
       "Moderate    625\n",
       "Low         480\n",
       "High        100\n",
       "Name: count, dtype: int64"
      ]
     },
     "metadata": {},
     "output_type": "display_data"
    },
    {
     "data": {
      "text/plain": [
       "'After over-sampling ADASYN'"
      ]
     },
     "metadata": {},
     "output_type": "display_data"
    },
    {
     "data": {
      "text/plain": [
       "Flexibility Level\n",
       "High        626\n",
       "Moderate    625\n",
       "Low         609\n",
       "Name: count, dtype: int64"
      ]
     },
     "metadata": {},
     "output_type": "display_data"
    }
   ],
   "execution_count": 447
  },
  {
   "metadata": {
    "ExecuteTime": {
     "end_time": "2025-05-03T12:20:23.668540Z",
     "start_time": "2025-05-03T12:20:23.662573Z"
    }
   },
   "cell_type": "code",
   "source": "use_sampling_method(online_study_df, \"Flexibility Level\", method=RandomUnderSampler())",
   "id": "47a0bed6f14f6fea",
   "outputs": [
    {
     "data": {
      "text/plain": [
       "'Before'"
      ]
     },
     "metadata": {},
     "output_type": "display_data"
    },
    {
     "data": {
      "text/plain": [
       "Flexibility Level\n",
       "2    625\n",
       "1    480\n",
       "0    100\n",
       "Name: count, dtype: int64"
      ]
     },
     "metadata": {},
     "output_type": "display_data"
    },
    {
     "data": {
      "text/plain": [
       "'After under-sampling RandomUnderSampler'"
      ]
     },
     "metadata": {},
     "output_type": "display_data"
    },
    {
     "data": {
      "text/plain": [
       "Flexibility Level\n",
       "0    100\n",
       "1    100\n",
       "2    100\n",
       "Name: count, dtype: int64"
      ]
     },
     "metadata": {},
     "output_type": "display_data"
    }
   ],
   "execution_count": 448
  },
  {
   "metadata": {
    "ExecuteTime": {
     "end_time": "2025-05-03T12:20:23.816139Z",
     "start_time": "2025-05-03T12:20:23.669304Z"
    }
   },
   "cell_type": "code",
   "source": "use_sampling_method(asteroids_df, \"hazardous\", method=ADASYN())",
   "id": "1123fa15210b25ab",
   "outputs": [
    {
     "data": {
      "text/plain": [
       "'Before'"
      ]
     },
     "metadata": {},
     "output_type": "display_data"
    },
    {
     "data": {
      "text/plain": [
       "hazardous\n",
       "False    81996\n",
       "True      8840\n",
       "Name: count, dtype: int64"
      ]
     },
     "metadata": {},
     "output_type": "display_data"
    },
    {
     "data": {
      "text/plain": [
       "'After over-sampling ADASYN'"
      ]
     },
     "metadata": {},
     "output_type": "display_data"
    },
    {
     "data": {
      "text/plain": [
       "hazardous\n",
       "True     85306\n",
       "False    81996\n",
       "Name: count, dtype: int64"
      ]
     },
     "metadata": {},
     "output_type": "display_data"
    }
   ],
   "execution_count": 449
  },
  {
   "metadata": {
    "ExecuteTime": {
     "end_time": "2025-05-03T12:20:23.831624Z",
     "start_time": "2025-05-03T12:20:23.816843Z"
    }
   },
   "cell_type": "code",
   "source": "use_sampling_method(asteroids_df, \"hazardous\", method=RandomUnderSampler())",
   "id": "266224c91dc38f29",
   "outputs": [
    {
     "data": {
      "text/plain": [
       "'Before'"
      ]
     },
     "metadata": {},
     "output_type": "display_data"
    },
    {
     "data": {
      "text/plain": [
       "hazardous\n",
       "False    81996\n",
       "True      8840\n",
       "Name: count, dtype: int64"
      ]
     },
     "metadata": {},
     "output_type": "display_data"
    },
    {
     "data": {
      "text/plain": [
       "'After under-sampling RandomUnderSampler'"
      ]
     },
     "metadata": {},
     "output_type": "display_data"
    },
    {
     "data": {
      "text/plain": [
       "hazardous\n",
       "False    8840\n",
       "True     8840\n",
       "Name: count, dtype: int64"
      ]
     },
     "metadata": {},
     "output_type": "display_data"
    }
   ],
   "execution_count": 450
  },
  {
   "metadata": {
    "ExecuteTime": {
     "end_time": "2025-05-03T12:20:23.851794Z",
     "start_time": "2025-05-03T12:20:23.832167Z"
    }
   },
   "cell_type": "code",
   "source": "use_sampling_method(medical_insures_df_copy_grouped, \"grouped_charges\", method=ADASYN())",
   "id": "bd48d364aafb2728",
   "outputs": [
    {
     "data": {
      "text/plain": [
       "'Before'"
      ]
     },
     "metadata": {},
     "output_type": "display_data"
    },
    {
     "data": {
      "text/plain": [
       "grouped_charges\n",
       "<= 10000    1480\n",
       "<= 20000     726\n",
       "<= 30000     226\n",
       "<= 40000     176\n",
       "<= 50000     150\n",
       "<= 60000       8\n",
       "<= 70000       6\n",
       "Name: count, dtype: int64"
      ]
     },
     "metadata": {},
     "output_type": "display_data"
    },
    {
     "data": {
      "text/plain": [
       "'After over-sampling ADASYN'"
      ]
     },
     "metadata": {},
     "output_type": "display_data"
    },
    {
     "data": {
      "text/plain": [
       "grouped_charges\n",
       "<= 10000    1480\n",
       "<= 30000    1480\n",
       "<= 40000    1480\n",
       "<= 60000    1480\n",
       "<= 50000    1480\n",
       "<= 70000    1480\n",
       "<= 20000    1478\n",
       "Name: count, dtype: int64"
      ]
     },
     "metadata": {},
     "output_type": "display_data"
    }
   ],
   "execution_count": 451
  },
  {
   "metadata": {
    "ExecuteTime": {
     "end_time": "2025-05-03T12:20:23.859673Z",
     "start_time": "2025-05-03T12:20:23.852484Z"
    }
   },
   "cell_type": "code",
   "source": "use_sampling_method(medical_insures_df_copy_grouped, \"grouped_charges\", method=RandomUnderSampler())",
   "id": "cbfb13d1d33b7731",
   "outputs": [
    {
     "data": {
      "text/plain": [
       "'Before'"
      ]
     },
     "metadata": {},
     "output_type": "display_data"
    },
    {
     "data": {
      "text/plain": [
       "grouped_charges\n",
       "0    1480\n",
       "1     726\n",
       "2     226\n",
       "3     176\n",
       "4     150\n",
       "5       8\n",
       "6       6\n",
       "Name: count, dtype: int64"
      ]
     },
     "metadata": {},
     "output_type": "display_data"
    },
    {
     "data": {
      "text/plain": [
       "'After under-sampling RandomUnderSampler'"
      ]
     },
     "metadata": {},
     "output_type": "display_data"
    },
    {
     "data": {
      "text/plain": [
       "grouped_charges\n",
       "0    6\n",
       "1    6\n",
       "2    6\n",
       "3    6\n",
       "4    6\n",
       "5    6\n",
       "6    6\n",
       "Name: count, dtype: int64"
      ]
     },
     "metadata": {},
     "output_type": "display_data"
    }
   ],
   "execution_count": 452
  }
 ],
 "metadata": {
  "kernelspec": {
   "display_name": "Python 3",
   "language": "python",
   "name": "python3"
  },
  "language_info": {
   "codemirror_mode": {
    "name": "ipython",
    "version": 2
   },
   "file_extension": ".py",
   "mimetype": "text/x-python",
   "name": "python",
   "nbconvert_exporter": "python",
   "pygments_lexer": "ipython2",
   "version": "2.7.6"
  }
 },
 "nbformat": 4,
 "nbformat_minor": 5
}
